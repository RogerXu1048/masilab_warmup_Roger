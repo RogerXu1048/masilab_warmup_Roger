{
 "cells": [
  {
   "cell_type": "code",
   "execution_count": 1,
   "metadata": {},
   "outputs": [],
   "source": [
    "# The data_dir variable is the only input allowed to your code. \n",
    "# Do not modify any file names in the image directory.\n",
    "data_dir = \"./MASI_pets\"\n",
    "# Add your code in the cells."
   ]
  },
  {
   "cell_type": "code",
   "execution_count": 47,
   "metadata": {},
   "outputs": [],
   "source": [
    "from PIL import Image\n",
    "import os, os.path\n",
    "\n",
    "path = data_dir\n",
    "imagename = []\n",
    "imgs = []\n",
    "petname = []\n",
    "ownerInitials = []\n",
    "\n",
    "valid_images = [\".jpg\",\".gif\",\".png\",\".tga\",\".jpeg\"]\n",
    "for f in os.listdir(path):\n",
    "    ext = os.path.splitext(f)[1]\n",
    "    if ext.lower() not in valid_images:\n",
    "        continue\n",
    "    imagename.append(f)\n",
    "    imgs.append(Image.open(os.path.join(path,f)))\n",
    "    name = f.split(\"_\")\n",
    "    petname.append(name[0])\n",
    "    ownerInitials.append(name[1][0:2])\n",
    "\n",
    "width = []\n",
    "height = []\n",
    "size = []\n",
    "for images in imgs:\n",
    "    w, h = images.size\n",
    "    size.append(w * h)\n",
    "    width.append(w)\n",
    "    height.append(h)\n",
    "\n",
    "aspect_ratio = []\n",
    "i = 0\n",
    "while i < 18:\n",
    "    aspect_ratio.append(round(width[i] / height[i], 2))\n",
    "    i += 1\n"
   ]
  },
  {
   "cell_type": "code",
   "execution_count": 3,
   "metadata": {},
   "outputs": [
    {
     "name": "stdout",
     "output_type": "stream",
     "text": [
      "Requirement already satisfied: tabulate in /Users/xuroger/opt/anaconda3/lib/python3.9/site-packages (0.8.10)\n",
      "Note: you may need to restart the kernel to use updated packages.\n"
     ]
    }
   ],
   "source": [
    "pip install tabulate"
   ]
  },
  {
   "cell_type": "code",
   "execution_count": 48,
   "metadata": {},
   "outputs": [
    {
     "name": "stdout",
     "output_type": "stream",
     "text": [
      "image name                   width    height    image size    aspect ratio  pet name            owner initials\n",
      "-------------------------  -------  --------  ------------  --------------  ------------------  ----------------\n",
      "Yasha_SR.jpg                  3456      4608      15925248            0.75  Yasha               SR\n",
      "Arthur_FR.jpg                 3024      4032      12192768            0.75  Arthur              FR\n",
      "August_XY.jpg                 3024      4032      12192768            0.75  August              XY\n",
      "Disney_XY.jpg                 4032      3024      12192768            1.33  Disney              XY\n",
      "Francie_CK.jpg                3024      4032      12192768            0.75  Francie             CK\n",
      "Hamilton_CK.png               3024      4032      12192768            0.75  Hamilton            CK\n",
      "Mango_LC.jpg                  3024      4032      12192768            0.75  Mango               LC\n",
      "Ruby and Buddy_MK.jpg         3024      4032      12192768            0.75  Ruby and Buddy      MK\n",
      "Xiaomi_CG.jpeg                3024      4032      12192768            0.75  Xiaomi              CG\n",
      "Ziggy_NN.jpg                  3024      4032      12192768            0.75  Ziggy               NN\n",
      "Lucky_TL.jpg                  2268      4032       9144576            0.56  Lucky               TL\n",
      "Oliver_CB.jpg                 2448      3264       7990272            0.75  Oliver              CB\n",
      "Max_BL.jpg                    1960      4032       7902720            0.49  Max                 BL\n",
      "Nutmeg_BL.JPG                 3072      2304       7077888            1.33  Nutmeg              BL\n",
      "Fuzzy Pants_BL.png            1785      3173       5663805            0.56  Fuzzy Pants         BL\n",
      "Morris and Jackson_YT.jpg     1838      1278       2348964            1.44  Morris and Jackson  YT\n",
      "Nimbus_KR.jpg                 1200      1600       1920000            0.75  Nimbus              KR\n",
      "Hazel_KS.JPG                   649      1398        907302            0.46  Hazel               KS\n"
     ]
    }
   ],
   "source": [
    "from tabulate import tabulate\n",
    "\n",
    "tableHeader = [\"image name\", \"width\", \"height\", \"image size\", \"aspect ratio\", \"pet name\", \"owner initials\"]\n",
    "tableContent = []\n",
    "\n",
    "i2 = 0\n",
    "while i2 < 18:\n",
    "    imageAttributes = []\n",
    "    imageAttributes.append(imagename[i2])\n",
    "    imageAttributes.append(width[i2])\n",
    "    imageAttributes.append(height[i2])\n",
    "    imageAttributes.append(size[i2])\n",
    "    imageAttributes.append(aspect_ratio[i2])\n",
    "    imageAttributes.append(petname[i2])\n",
    "    imageAttributes.append(ownerInitials[i2])\n",
    "    tableContent.append(imageAttributes)\n",
    "    i2 += 1\n",
    "\n",
    "    \n",
    "tableSorted = sorted(tableContent, key = lambda item: (-item[3], item[5]))\n",
    "tableSorted.insert(0,tableHeader)\n",
    "\n",
    "print(tabulate(tableSorted, headers='firstrow'))\n"
   ]
  },
  {
   "cell_type": "code",
   "execution_count": 68,
   "metadata": {},
   "outputs": [
    {
     "data": {
      "image/png": "[encoded data removed]",
      "text/plain": [
       "<Figure size 432x288 with 1 Axes>"
      ]
     },
     "metadata": {
      "needs_background": "light"
     },
     "output_type": "display_data"
    }
   ],
   "source": [
    "import matplotlib.pyplot as plt\n",
    "\n",
    "plt.scatter(size, aspect_ratio, s=100, alpha=0.3)\n",
    "plt.title('Relationship between image size and aspect ratio across all pet images')\n",
    "plt.xlabel('Image size ()')\n",
    "plt.ylabel('y')\n",
    "plt.show()\n"
   ]
  },
  {
   "cell_type": "code",
   "execution_count": null,
   "metadata": {},
   "outputs": [],
   "source": []
  }
 ],
 "metadata": {
  "kernelspec": {
   "display_name": "Python 3 (ipykernel)",
   "language": "python",
   "name": "python3"
  },
  "language_info": {
   "codemirror_mode": {
    "name": "ipython",
    "version": 3
   },
   "file_extension": ".py",
   "mimetype": "text/x-python",
   "name": "python",
   "nbconvert_exporter": "python",
   "pygments_lexer": "ipython3",
   "version": "3.9.7"
  },
  "vscode": {
   "interpreter": {
    "hash": "31f2aee4e71d21fbe5cf8b01ff0e069b9275f58929596ceb00d14d90e3e16cd6"
   }
  }
 },
 "nbformat": 4,
 "nbformat_minor": 2
}
